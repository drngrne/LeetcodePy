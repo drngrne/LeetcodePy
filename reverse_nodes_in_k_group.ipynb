{
  "nbformat": 4,
  "nbformat_minor": 0,
  "metadata": {
    "colab": {
      "provenance": [],
      "authorship_tag": "ABX9TyPh5wIJLaGvPgxylON+QgAg"
    },
    "kernelspec": {
      "name": "python3",
      "display_name": "Python 3"
    },
    "language_info": {
      "name": "python"
    }
  },
  "cells": [
    {
      "cell_type": "code",
      "execution_count": 28,
      "metadata": {
        "id": "ut7KwoU8uvIS"
      },
      "outputs": [],
      "source": [
        "# Definition for singly-linked list.\n",
        "class ListNode(object):\n",
        "    def __init__(self, val=0, next=None):\n",
        "        self.val = val\n",
        "        self.next = next\n",
        "\n",
        "class Solution(object):\n",
        "    def reverseList(self, head):\n",
        "\n",
        "        if not head:\n",
        "            return None\n",
        "\n",
        "        dummy = ListNode()\n",
        "        dummy.next = head\n",
        "        prev = dummy\n",
        "        current = head\n",
        "\n",
        "        while current:\n",
        "            next = current.next\n",
        "            current.next = prev\n",
        "            prev = current\n",
        "            current = next\n",
        "\n",
        "        head.next = dummy.next = None\n",
        "\n",
        "        return prev, head\n",
        "\n",
        "    def reverseKGroup(self, head, k):\n",
        "\n",
        "        if (not head) or (not head.next) or (k<=1):\n",
        "            return head\n",
        "\n",
        "        h = t = currNode = head\n",
        "        i = k\n",
        "        hm = {}\n",
        "\n",
        "        while currNode:\n",
        "            if i<=1:\n",
        "                t = currNode\n",
        "                currNode = currNode.next\n",
        "                t.next = None\n",
        "                h, t = self.reverseList(h)\n",
        "                hm[h] = t\n",
        "                h = t = currNode\n",
        "                i=k\n",
        "\n",
        "            if not currNode:\n",
        "                break\n",
        "\n",
        "            currNode = currNode.next\n",
        "            i = i-1\n",
        "\n",
        "        if h:\n",
        "            hm[h] = None\n",
        "\n",
        "        first = temp = None\n",
        "\n",
        "        for key, value in hm.items():\n",
        "            if not temp:\n",
        "                first = key\n",
        "                temp = value\n",
        "            else:\n",
        "                temp.next = key\n",
        "                temp = value\n",
        "\n",
        "        return first"
      ]
    },
    {
      "cell_type": "code",
      "source": [
        "n1 = ListNode(1)\n",
        "n2 = ListNode(2)\n",
        "n3 = ListNode(3)\n",
        "n4 = ListNode(4)\n",
        "n5 = ListNode(5)\n",
        "\n",
        "# 1, 2, 3, 4, 5"
      ],
      "metadata": {
        "id": "-JWARLIPqvzA"
      },
      "execution_count": 33,
      "outputs": []
    },
    {
      "cell_type": "code",
      "source": [
        "n1.next = n2\n",
        "n2.next = n3\n",
        "n3.next = n4\n",
        "n4.next = n5\n",
        "#n6.next = n7"
      ],
      "metadata": {
        "id": "HZ_nTSRarA7L"
      },
      "execution_count": 34,
      "outputs": []
    },
    {
      "cell_type": "code",
      "source": [
        "sola = Solution()\n",
        "testNode = n1\n",
        "\n",
        "h2 = sola.reverseKGroup(testNode, 2)"
      ],
      "metadata": {
        "id": "XGAwkU40sMls"
      },
      "execution_count": 35,
      "outputs": []
    },
    {
      "cell_type": "code",
      "source": [
        "current = h2\n",
        "while current:\n",
        "    print(current.val)\n",
        "    current = current.next"
      ],
      "metadata": {
        "colab": {
          "base_uri": "https://localhost:8080/"
        },
        "id": "2YZzUEYSKLqJ",
        "outputId": "25db1d46-e1e6-487f-af53-9ae4c72b3316"
      },
      "execution_count": 36,
      "outputs": [
        {
          "output_type": "stream",
          "name": "stdout",
          "text": [
            "2\n",
            "1\n",
            "4\n",
            "3\n",
            "5\n"
          ]
        }
      ]
    }
  ]
}